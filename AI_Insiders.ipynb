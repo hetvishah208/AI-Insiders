{
  "cells": [
    {
      "cell_type": "markdown",
      "source": [
        "# Fine-Tuning NER Model for Extracting Medical Conditions and Medicines\n",
        "#### This code fine-tunes a model to extract medical conditions and medicines from patient reports.\n",
        "#### It utilizes OpenAI's GPT-3.5-turbo model and the Chat API for interaction."
      ],
      "metadata": {
        "id": "JXxXoOea-yHl"
      },
      "id": "JXxXoOea-yHl"
    },
    {
      "cell_type": "markdown",
      "id": "6f49cb10-f895-41f4-aa97-da606d0084d4",
      "metadata": {
        "id": "6f49cb10-f895-41f4-aa97-da606d0084d4"
      },
      "source": [
        "# Setup"
      ]
    },
    {
      "cell_type": "code",
      "execution_count": null,
      "id": "32036e70",
      "metadata": {
        "colab": {
          "base_uri": "https://localhost:8080/"
        },
        "id": "32036e70",
        "outputId": "3d031424-b59b-4502-8245-a99cc9581d64"
      },
      "outputs": [
        {
          "output_type": "stream",
          "name": "stdout",
          "text": [
            "Collecting openai\n",
            "  Downloading openai-1.28.0-py3-none-any.whl (320 kB)\n",
            "\u001b[2K     \u001b[90m━━━━━━━━━━━━━━━━━━━━━━━━━━━━━━━━━━━━━━━━\u001b[0m \u001b[32m320.1/320.1 kB\u001b[0m \u001b[31m1.9 MB/s\u001b[0m eta \u001b[36m0:00:00\u001b[0m\n",
            "\u001b[?25hRequirement already satisfied: anyio<5,>=3.5.0 in /usr/local/lib/python3.10/dist-packages (from openai) (3.7.1)\n",
            "Requirement already satisfied: distro<2,>=1.7.0 in /usr/lib/python3/dist-packages (from openai) (1.7.0)\n",
            "Collecting httpx<1,>=0.23.0 (from openai)\n",
            "  Downloading httpx-0.27.0-py3-none-any.whl (75 kB)\n",
            "\u001b[2K     \u001b[90m━━━━━━━━━━━━━━━━━━━━━━━━━━━━━━━━━━━━━━━━\u001b[0m \u001b[32m75.6/75.6 kB\u001b[0m \u001b[31m3.4 MB/s\u001b[0m eta \u001b[36m0:00:00\u001b[0m\n",
            "\u001b[?25hRequirement already satisfied: pydantic<3,>=1.9.0 in /usr/local/lib/python3.10/dist-packages (from openai) (2.7.1)\n",
            "Requirement already satisfied: sniffio in /usr/local/lib/python3.10/dist-packages (from openai) (1.3.1)\n",
            "Requirement already satisfied: tqdm>4 in /usr/local/lib/python3.10/dist-packages (from openai) (4.66.4)\n",
            "Requirement already satisfied: typing-extensions<5,>=4.7 in /usr/local/lib/python3.10/dist-packages (from openai) (4.11.0)\n",
            "Requirement already satisfied: idna>=2.8 in /usr/local/lib/python3.10/dist-packages (from anyio<5,>=3.5.0->openai) (3.7)\n",
            "Requirement already satisfied: exceptiongroup in /usr/local/lib/python3.10/dist-packages (from anyio<5,>=3.5.0->openai) (1.2.1)\n",
            "Requirement already satisfied: certifi in /usr/local/lib/python3.10/dist-packages (from httpx<1,>=0.23.0->openai) (2024.2.2)\n",
            "Collecting httpcore==1.* (from httpx<1,>=0.23.0->openai)\n",
            "  Downloading httpcore-1.0.5-py3-none-any.whl (77 kB)\n",
            "\u001b[2K     \u001b[90m━━━━━━━━━━━━━━━━━━━━━━━━━━━━━━━━━━━━━━━━\u001b[0m \u001b[32m77.9/77.9 kB\u001b[0m \u001b[31m4.6 MB/s\u001b[0m eta \u001b[36m0:00:00\u001b[0m\n",
            "\u001b[?25hCollecting h11<0.15,>=0.13 (from httpcore==1.*->httpx<1,>=0.23.0->openai)\n",
            "  Downloading h11-0.14.0-py3-none-any.whl (58 kB)\n",
            "\u001b[2K     \u001b[90m━━━━━━━━━━━━━━━━━━━━━━━━━━━━━━━━━━━━━━━━\u001b[0m \u001b[32m58.3/58.3 kB\u001b[0m \u001b[31m3.5 MB/s\u001b[0m eta \u001b[36m0:00:00\u001b[0m\n",
            "\u001b[?25hRequirement already satisfied: annotated-types>=0.4.0 in /usr/local/lib/python3.10/dist-packages (from pydantic<3,>=1.9.0->openai) (0.6.0)\n",
            "Requirement already satisfied: pydantic-core==2.18.2 in /usr/local/lib/python3.10/dist-packages (from pydantic<3,>=1.9.0->openai) (2.18.2)\n",
            "Installing collected packages: h11, httpcore, httpx, openai\n",
            "Successfully installed h11-0.14.0 httpcore-1.0.5 httpx-0.27.0 openai-1.28.0\n"
          ]
        }
      ],
      "source": [
        "# Installing or upgrading the OpenAI Python package\n",
        "!pip install --upgrade openai"
      ]
    },
    {
      "cell_type": "code",
      "execution_count": null,
      "id": "6e1f4403-37e1-4115-a215-12fd7daa1eb6",
      "metadata": {
        "id": "6e1f4403-37e1-4115-a215-12fd7daa1eb6"
      },
      "outputs": [],
      "source": [
        "#Importing the required libraries\n",
        "import csv\n",
        "import json\n",
        "import openai\n",
        "import os\n",
        "import pandas as pd\n",
        "from pprint import pprint\n",
        "\n",
        "#Setting up the OpenAI API key for authentication. Enter the key in the\" \" space.\n",
        "client = openai.OpenAI(api_key=os.environ.get(\"OPENAI_API_KEY\", \" \"))"
      ]
    },
    {
      "cell_type": "markdown",
      "source": [
        "# Data Loading and Preprocessing"
      ],
      "metadata": {
        "id": "hsGSW4i8_zFq"
      },
      "id": "hsGSW4i8_zFq"
    },
    {
      "cell_type": "code",
      "execution_count": null,
      "id": "f57ebc23-14b7-47f9-90b8-1d791ccfc9bc",
      "metadata": {
        "colab": {
          "base_uri": "https://localhost:8080/",
          "height": 206
        },
        "id": "f57ebc23-14b7-47f9-90b8-1d791ccfc9bc",
        "outputId": "7663791d-0b59-401b-97f4-1d91f9749779"
      },
      "outputs": [
        {
          "output_type": "execute_result",
          "data": {
            "text/plain": [
              "                                     ID  \\\n",
              "0  18c2f619-f102-452f-ab81-d26f7e283ffe   \n",
              "1  487c93e3-0d45-4088-a378-cf3a01c8953d   \n",
              "2  d5056874-895a-4a7f-9e0f-828d414d65d9   \n",
              "3  20c792c7-0c4b-42d0-8127-0e04113db384   \n",
              "4  f5359e0d-4d4a-4707-95a3-4c627fc4a83b   \n",
              "\n",
              "                                             Content  \\\n",
              "0  While bismuth compounds (Pepto-Bismol) decreas...   \n",
              "1  Diarrhea, also spelled diarrhoea, is the condi...   \n",
              "2  Antiretroviral therapy (ART) is recommended fo...   \n",
              "3  The following drugs are considered as DMARDs: ...   \n",
              "4  The goals of treatment are to reduce pain, dec...   \n",
              "\n",
              "                                  Medical Conditions  \\\n",
              "0    , diarrhea, flatulence, constipation, diarrhea    \n",
              "1  Diarrhea, dehydration, decrease in responsiven...   \n",
              "2                                                NaN   \n",
              "3  rheumatoid arthritis, abdominal pain, DMARDs.,...   \n",
              "4                                                NaN   \n",
              "\n",
              "                                           Medicines  \n",
              "0  Racecadotril, aluminomagnesium silicate, kaope...  \n",
              "1                                                NaN  \n",
              "2                        Antiretroviral therapy, ART  \n",
              "3  sulfasalazine, leflunomide, tocilizumab, Leflu...  \n",
              "4  steroids, Biological DMARDs, hydroxychloroquin...  "
            ],
            "text/html": [
              "\n",
              "  <div id=\"df-339bcdda-c11c-44b5-836b-32245de0bdff\" class=\"colab-df-container\">\n",
              "    <div>\n",
              "<style scoped>\n",
              "    .dataframe tbody tr th:only-of-type {\n",
              "        vertical-align: middle;\n",
              "    }\n",
              "\n",
              "    .dataframe tbody tr th {\n",
              "        vertical-align: top;\n",
              "    }\n",
              "\n",
              "    .dataframe thead th {\n",
              "        text-align: right;\n",
              "    }\n",
              "</style>\n",
              "<table border=\"1\" class=\"dataframe\">\n",
              "  <thead>\n",
              "    <tr style=\"text-align: right;\">\n",
              "      <th></th>\n",
              "      <th>ID</th>\n",
              "      <th>Content</th>\n",
              "      <th>Medical Conditions</th>\n",
              "      <th>Medicines</th>\n",
              "    </tr>\n",
              "  </thead>\n",
              "  <tbody>\n",
              "    <tr>\n",
              "      <th>0</th>\n",
              "      <td>18c2f619-f102-452f-ab81-d26f7e283ffe</td>\n",
              "      <td>While bismuth compounds (Pepto-Bismol) decreas...</td>\n",
              "      <td>, diarrhea, flatulence, constipation, diarrhea</td>\n",
              "      <td>Racecadotril, aluminomagnesium silicate, kaope...</td>\n",
              "    </tr>\n",
              "    <tr>\n",
              "      <th>1</th>\n",
              "      <td>487c93e3-0d45-4088-a378-cf3a01c8953d</td>\n",
              "      <td>Diarrhea, also spelled diarrhoea, is the condi...</td>\n",
              "      <td>Diarrhea, dehydration, decrease in responsiven...</td>\n",
              "      <td>NaN</td>\n",
              "    </tr>\n",
              "    <tr>\n",
              "      <th>2</th>\n",
              "      <td>d5056874-895a-4a7f-9e0f-828d414d65d9</td>\n",
              "      <td>Antiretroviral therapy (ART) is recommended fo...</td>\n",
              "      <td>NaN</td>\n",
              "      <td>Antiretroviral therapy, ART</td>\n",
              "    </tr>\n",
              "    <tr>\n",
              "      <th>3</th>\n",
              "      <td>20c792c7-0c4b-42d0-8127-0e04113db384</td>\n",
              "      <td>The following drugs are considered as DMARDs: ...</td>\n",
              "      <td>rheumatoid arthritis, abdominal pain, DMARDs.,...</td>\n",
              "      <td>sulfasalazine, leflunomide, tocilizumab, Leflu...</td>\n",
              "    </tr>\n",
              "    <tr>\n",
              "      <th>4</th>\n",
              "      <td>f5359e0d-4d4a-4707-95a3-4c627fc4a83b</td>\n",
              "      <td>The goals of treatment are to reduce pain, dec...</td>\n",
              "      <td>NaN</td>\n",
              "      <td>steroids, Biological DMARDs, hydroxychloroquin...</td>\n",
              "    </tr>\n",
              "  </tbody>\n",
              "</table>\n",
              "</div>\n",
              "    <div class=\"colab-df-buttons\">\n",
              "\n",
              "  <div class=\"colab-df-container\">\n",
              "    <button class=\"colab-df-convert\" onclick=\"convertToInteractive('df-339bcdda-c11c-44b5-836b-32245de0bdff')\"\n",
              "            title=\"Convert this dataframe to an interactive table.\"\n",
              "            style=\"display:none;\">\n",
              "\n",
              "  <svg xmlns=\"http://www.w3.org/2000/svg\" height=\"24px\" viewBox=\"0 -960 960 960\">\n",
              "    <path d=\"M120-120v-720h720v720H120Zm60-500h600v-160H180v160Zm220 220h160v-160H400v160Zm0 220h160v-160H400v160ZM180-400h160v-160H180v160Zm440 0h160v-160H620v160ZM180-180h160v-160H180v160Zm440 0h160v-160H620v160Z\"/>\n",
              "  </svg>\n",
              "    </button>\n",
              "\n",
              "  <style>\n",
              "    .colab-df-container {\n",
              "      display:flex;\n",
              "      gap: 12px;\n",
              "    }\n",
              "\n",
              "    .colab-df-convert {\n",
              "      background-color: #E8F0FE;\n",
              "      border: none;\n",
              "      border-radius: 50%;\n",
              "      cursor: pointer;\n",
              "      display: none;\n",
              "      fill: #1967D2;\n",
              "      height: 32px;\n",
              "      padding: 0 0 0 0;\n",
              "      width: 32px;\n",
              "    }\n",
              "\n",
              "    .colab-df-convert:hover {\n",
              "      background-color: #E2EBFA;\n",
              "      box-shadow: 0px 1px 2px rgba(60, 64, 67, 0.3), 0px 1px 3px 1px rgba(60, 64, 67, 0.15);\n",
              "      fill: #174EA6;\n",
              "    }\n",
              "\n",
              "    .colab-df-buttons div {\n",
              "      margin-bottom: 4px;\n",
              "    }\n",
              "\n",
              "    [theme=dark] .colab-df-convert {\n",
              "      background-color: #3B4455;\n",
              "      fill: #D2E3FC;\n",
              "    }\n",
              "\n",
              "    [theme=dark] .colab-df-convert:hover {\n",
              "      background-color: #434B5C;\n",
              "      box-shadow: 0px 1px 3px 1px rgba(0, 0, 0, 0.15);\n",
              "      filter: drop-shadow(0px 1px 2px rgba(0, 0, 0, 0.3));\n",
              "      fill: #FFFFFF;\n",
              "    }\n",
              "  </style>\n",
              "\n",
              "    <script>\n",
              "      const buttonEl =\n",
              "        document.querySelector('#df-339bcdda-c11c-44b5-836b-32245de0bdff button.colab-df-convert');\n",
              "      buttonEl.style.display =\n",
              "        google.colab.kernel.accessAllowed ? 'block' : 'none';\n",
              "\n",
              "      async function convertToInteractive(key) {\n",
              "        const element = document.querySelector('#df-339bcdda-c11c-44b5-836b-32245de0bdff');\n",
              "        const dataTable =\n",
              "          await google.colab.kernel.invokeFunction('convertToInteractive',\n",
              "                                                    [key], {});\n",
              "        if (!dataTable) return;\n",
              "\n",
              "        const docLinkHtml = 'Like what you see? Visit the ' +\n",
              "          '<a target=\"_blank\" href=https://colab.research.google.com/notebooks/data_table.ipynb>data table notebook</a>'\n",
              "          + ' to learn more about interactive tables.';\n",
              "        element.innerHTML = '';\n",
              "        dataTable['output_type'] = 'display_data';\n",
              "        await google.colab.output.renderOutput(dataTable, element);\n",
              "        const docLink = document.createElement('div');\n",
              "        docLink.innerHTML = docLinkHtml;\n",
              "        element.appendChild(docLink);\n",
              "      }\n",
              "    </script>\n",
              "  </div>\n",
              "\n",
              "\n",
              "<div id=\"df-a5091677-2b11-46a0-b41c-a0c476091d69\">\n",
              "  <button class=\"colab-df-quickchart\" onclick=\"quickchart('df-a5091677-2b11-46a0-b41c-a0c476091d69')\"\n",
              "            title=\"Suggest charts\"\n",
              "            style=\"display:none;\">\n",
              "\n",
              "<svg xmlns=\"http://www.w3.org/2000/svg\" height=\"24px\"viewBox=\"0 0 24 24\"\n",
              "     width=\"24px\">\n",
              "    <g>\n",
              "        <path d=\"M19 3H5c-1.1 0-2 .9-2 2v14c0 1.1.9 2 2 2h14c1.1 0 2-.9 2-2V5c0-1.1-.9-2-2-2zM9 17H7v-7h2v7zm4 0h-2V7h2v10zm4 0h-2v-4h2v4z\"/>\n",
              "    </g>\n",
              "</svg>\n",
              "  </button>\n",
              "\n",
              "<style>\n",
              "  .colab-df-quickchart {\n",
              "      --bg-color: #E8F0FE;\n",
              "      --fill-color: #1967D2;\n",
              "      --hover-bg-color: #E2EBFA;\n",
              "      --hover-fill-color: #174EA6;\n",
              "      --disabled-fill-color: #AAA;\n",
              "      --disabled-bg-color: #DDD;\n",
              "  }\n",
              "\n",
              "  [theme=dark] .colab-df-quickchart {\n",
              "      --bg-color: #3B4455;\n",
              "      --fill-color: #D2E3FC;\n",
              "      --hover-bg-color: #434B5C;\n",
              "      --hover-fill-color: #FFFFFF;\n",
              "      --disabled-bg-color: #3B4455;\n",
              "      --disabled-fill-color: #666;\n",
              "  }\n",
              "\n",
              "  .colab-df-quickchart {\n",
              "    background-color: var(--bg-color);\n",
              "    border: none;\n",
              "    border-radius: 50%;\n",
              "    cursor: pointer;\n",
              "    display: none;\n",
              "    fill: var(--fill-color);\n",
              "    height: 32px;\n",
              "    padding: 0;\n",
              "    width: 32px;\n",
              "  }\n",
              "\n",
              "  .colab-df-quickchart:hover {\n",
              "    background-color: var(--hover-bg-color);\n",
              "    box-shadow: 0 1px 2px rgba(60, 64, 67, 0.3), 0 1px 3px 1px rgba(60, 64, 67, 0.15);\n",
              "    fill: var(--button-hover-fill-color);\n",
              "  }\n",
              "\n",
              "  .colab-df-quickchart-complete:disabled,\n",
              "  .colab-df-quickchart-complete:disabled:hover {\n",
              "    background-color: var(--disabled-bg-color);\n",
              "    fill: var(--disabled-fill-color);\n",
              "    box-shadow: none;\n",
              "  }\n",
              "\n",
              "  .colab-df-spinner {\n",
              "    border: 2px solid var(--fill-color);\n",
              "    border-color: transparent;\n",
              "    border-bottom-color: var(--fill-color);\n",
              "    animation:\n",
              "      spin 1s steps(1) infinite;\n",
              "  }\n",
              "\n",
              "  @keyframes spin {\n",
              "    0% {\n",
              "      border-color: transparent;\n",
              "      border-bottom-color: var(--fill-color);\n",
              "      border-left-color: var(--fill-color);\n",
              "    }\n",
              "    20% {\n",
              "      border-color: transparent;\n",
              "      border-left-color: var(--fill-color);\n",
              "      border-top-color: var(--fill-color);\n",
              "    }\n",
              "    30% {\n",
              "      border-color: transparent;\n",
              "      border-left-color: var(--fill-color);\n",
              "      border-top-color: var(--fill-color);\n",
              "      border-right-color: var(--fill-color);\n",
              "    }\n",
              "    40% {\n",
              "      border-color: transparent;\n",
              "      border-right-color: var(--fill-color);\n",
              "      border-top-color: var(--fill-color);\n",
              "    }\n",
              "    60% {\n",
              "      border-color: transparent;\n",
              "      border-right-color: var(--fill-color);\n",
              "    }\n",
              "    80% {\n",
              "      border-color: transparent;\n",
              "      border-right-color: var(--fill-color);\n",
              "      border-bottom-color: var(--fill-color);\n",
              "    }\n",
              "    90% {\n",
              "      border-color: transparent;\n",
              "      border-bottom-color: var(--fill-color);\n",
              "    }\n",
              "  }\n",
              "</style>\n",
              "\n",
              "  <script>\n",
              "    async function quickchart(key) {\n",
              "      const quickchartButtonEl =\n",
              "        document.querySelector('#' + key + ' button');\n",
              "      quickchartButtonEl.disabled = true;  // To prevent multiple clicks.\n",
              "      quickchartButtonEl.classList.add('colab-df-spinner');\n",
              "      try {\n",
              "        const charts = await google.colab.kernel.invokeFunction(\n",
              "            'suggestCharts', [key], {});\n",
              "      } catch (error) {\n",
              "        console.error('Error during call to suggestCharts:', error);\n",
              "      }\n",
              "      quickchartButtonEl.classList.remove('colab-df-spinner');\n",
              "      quickchartButtonEl.classList.add('colab-df-quickchart-complete');\n",
              "    }\n",
              "    (() => {\n",
              "      let quickchartButtonEl =\n",
              "        document.querySelector('#df-a5091677-2b11-46a0-b41c-a0c476091d69 button');\n",
              "      quickchartButtonEl.style.display =\n",
              "        google.colab.kernel.accessAllowed ? 'block' : 'none';\n",
              "    })();\n",
              "  </script>\n",
              "</div>\n",
              "    </div>\n",
              "  </div>\n"
            ],
            "application/vnd.google.colaboratory.intrinsic+json": {
              "type": "dataframe",
              "variable_name": "medical_df",
              "summary": "{\n  \"name\": \"medical_df\",\n  \"rows\": 31,\n  \"fields\": [\n    {\n      \"column\": \"ID\",\n      \"properties\": {\n        \"dtype\": \"string\",\n        \"num_unique_values\": 31,\n        \"samples\": [\n          \"3bf6f8f1-858b-4c14-87d1-8e353d90ecaf\",\n          \"54e9b97d-6ee7-43d2-b67a-fb0e0153a189\",\n          \"eb73a7a5-4f25-4bf7-923c-ed3f5f6132b1\"\n        ],\n        \"semantic_type\": \"\",\n        \"description\": \"\"\n      }\n    },\n    {\n      \"column\": \"Content\",\n      \"properties\": {\n        \"dtype\": \"string\",\n        \"num_unique_values\": 31,\n        \"samples\": [\n          \"Carbamazepine is an approved treatment for bipolar disorder and epileptic seizures, but it has side effects useful in treating attention-deficit hyperactivity disorder (ADHD), schizophrenia, phantom limb syndrome, paroxysmal extreme pain disorder, neuromyotonia, and post-traumatic stress disorder.[8]\",\n          \"However, existing data suggest that patients taking bedaquiline in addition to standard TB therapy are five times more likely to die than those without the new drug,[184] which has resulted in medical journal articles raising health policy questions about why the FDA approved the drug and whether financial ties to the company making bedaquiline influenced physicians' support for its use.[183][185]\",\n          \"All medical applications known so far involve not pure adamantane, but its derivatives. The first adamantane derivative used as a drug was amantadine \\u2013 first (1967) as an antiviral drug against various strains of flu[50] and then to treat Parkinson's disease.[51][52] Other drugs among adamantane derivatives include adapalene, adapromine, bromantane, carmantadine, chlodantane, dopamantine, memantine, rimantadine, saxagliptin, tromantadine, and vildagliptin. Polymers of adamantane have been patented as antiviral agents against HIV.[53]\"\n        ],\n        \"semantic_type\": \"\",\n        \"description\": \"\"\n      }\n    },\n    {\n      \"column\": \"Medical Conditions\",\n      \"properties\": {\n        \"dtype\": \"string\",\n        \"num_unique_values\": 22,\n        \"samples\": [\n          \" , diarrhea, flatulence, constipation, diarrhea \",\n          \"chickenpox, psychiatric illnesses, multiple sclerosis, influenza, avian influenza\",\n          \"lobemide, M, nxiety, social anxiety disorder, paroxetine, ocial phobia ,  social anxiety disorder, social anxiety, anxiety disorder, social phobia\"\n        ],\n        \"semantic_type\": \"\",\n        \"description\": \"\"\n      }\n    },\n    {\n      \"column\": \"Medicines\",\n      \"properties\": {\n        \"dtype\": \"string\",\n        \"num_unique_values\": 16,\n        \"samples\": [\n          \"Racecadotril, aluminomagnesium silicate, kaopectate, Pepto-Bismol, Diosmectite, bismuth compounds, loperamide, chemotherapy\",\n          \"Antiretroviral therapy, ART\",\n          \"amoxicillin, pneumococcal vaccine, anthrax vaccine, doxycycline, ciprofloxacin\"\n        ],\n        \"semantic_type\": \"\",\n        \"description\": \"\"\n      }\n    }\n  ]\n}"
            }
          },
          "metadata": {},
          "execution_count": 3
        }
      ],
      "source": [
        "# Load JSON data from medical data file\n",
        "with open('medical_data.json') as json_file:\n",
        "    data = json.load(json_file)\n",
        "\n",
        "# Initialize CSV file with appropriate headers\n",
        "csv_file = open('medical_data_updated.csv', 'w', newline='')\n",
        "csv_writer = csv.writer(csv_file)\n",
        "csv_writer.writerow(['ID', 'Content', 'Medical Conditions', 'Medicines'])\n",
        "\n",
        "# Initialize dictionaries to store medical conditions and medicines from the JSON data\n",
        "medical_conditions_dict = {}\n",
        "medicines_dict = {}\n",
        "\n",
        "# Iterate through the JSON file to extract the id, content, medical conditions and medicines into columns\n",
        "for example in data['examples']:\n",
        "    example_id = example['id']\n",
        "    content = example['content']\n",
        "    medical_conditions = set()\n",
        "    medicines = set()\n",
        "    for annotation in example['annotations']:\n",
        "        tag_name = annotation['tag_name']\n",
        "        value = annotation['value']\n",
        "        if tag_name == 'MedicalCondition':\n",
        "            medical_conditions.add(value)\n",
        "        elif tag_name == 'Medicine':\n",
        "            medicines.add(value)\n",
        "    # Add medical conditions and medicines to respective dictionaries\n",
        "    medical_conditions_dict[example_id] = ', '.join(medical_conditions)\n",
        "    medicines_dict[example_id] = ', '.join(medicines)\n",
        "\n",
        "# Write extracted data to CSV file\n",
        "for example_id in medical_conditions_dict.keys():\n",
        "    content = next((example['content'] for example in data['examples'] if example['id'] == example_id), '')\n",
        "    medical_conditions = medical_conditions_dict.get(example_id, '')\n",
        "    medicines = medicines_dict.get(example_id, '')\n",
        "    csv_writer.writerow([example_id, content, medical_conditions, medicines])\n",
        "\n",
        "# Close CSV file\n",
        "csv_file.close()\n",
        "\n",
        "#Load data from the CSV into a Pandas DataFrame for further processing\n",
        "medical_df = pd.read_csv('medical_data_updated.csv')\n",
        "medical_df.head()"
      ]
    },
    {
      "cell_type": "markdown",
      "id": "2b3151e9-8715-47bd-a153-195d6a0d0a70",
      "metadata": {
        "id": "2b3151e9-8715-47bd-a153-195d6a0d0a70"
      },
      "source": [
        "# Defining Conversation Structure\n",
        "#### First, the conversation structure is defined, including system messages, user messages, and assistant responses.\n"
      ]
    },
    {
      "cell_type": "code",
      "execution_count": null,
      "id": "9a8216b0-d1dc-472d-b07d-1be03acd70a5",
      "metadata": {
        "colab": {
          "base_uri": "https://localhost:8080/"
        },
        "id": "9a8216b0-d1dc-472d-b07d-1be03acd70a5",
        "outputId": "3ac16fde-33b2-42fa-8e23-bbfa49b6d2dc"
      },
      "outputs": [
        {
          "output_type": "stream",
          "name": "stdout",
          "text": [
            "{'messages': [{'content': 'You are a helpful medical assistant. You are to '\n",
            "                          'extract the medical conditions and medicines from '\n",
            "                          'each patient report or medical content.',\n",
            "               'role': 'system'},\n",
            "              {'content': 'ID: 18c2f619-f102-452f-ab81-d26f7e283ffe\\n'\n",
            "                          '\\n'\n",
            "                          'Content: While bismuth compounds (Pepto-Bismol) '\n",
            "                          'decreased the number of bowel movements in those '\n",
            "                          \"with travelers' diarrhea, they do not decrease the \"\n",
            "                          'length of illness.[91] Anti-motility agents like '\n",
            "                          'loperamide are also effective at reducing the '\n",
            "                          'number of stools but not the duration of '\n",
            "                          'disease.[8] These agents should be used only if '\n",
            "                          'bloody diarrhea is not present.[92]\\n'\n",
            "                          '\\n'\n",
            "                          'Diosmectite, a natural aluminomagnesium silicate '\n",
            "                          'clay, is effective in alleviating symptoms of acute '\n",
            "                          'diarrhea in children,[93] and also has some effects '\n",
            "                          'in chronic functional diarrhea, radiation-induced '\n",
            "                          'diarrhea, and chemotherapy-induced diarrhea.[45] '\n",
            "                          'Another absorbent agent used for the treatment of '\n",
            "                          'mild diarrhea is kaopectate.\\n'\n",
            "                          '\\n'\n",
            "                          'Racecadotril an antisecretory medication may be '\n",
            "                          'used to treat diarrhea in children and adults.[86] '\n",
            "                          'It has better tolerability than loperamide, as it '\n",
            "                          'causes less constipation and flatulence.[94]',\n",
            "               'role': 'user'},\n",
            "              {'content': 'Medical conditions:  , diarrhea, flatulence, '\n",
            "                          'constipation, diarrhea \\n'\n",
            "                          '\\n'\n",
            "                          'Medicines: Racecadotril, aluminomagnesium silicate, '\n",
            "                          'kaopectate, Pepto-Bismol, Diosmectite, bismuth '\n",
            "                          'compounds, loperamide, chemotherapy',\n",
            "               'role': 'assistant'}]}\n"
          ]
        }
      ],
      "source": [
        "#Define the system message for the conversation\n",
        "system_message = \"You are a helpful medical assistant. You are to extract the medical conditions and medicines from each patient report or medical content.\"\n",
        "\n",
        "#Define the function to create the user message for each conversation example\n",
        "def create_user_message(row):\n",
        "    return f\"\"\"ID: {row['ID']}\\n\\nContent: {row['Content']}\"\"\"\n",
        "\n",
        "#Define the function to prepare the conversation example\n",
        "def prepare_example_conversation(row):\n",
        "    messages = []\n",
        "    messages.append({\"role\": \"system\", \"content\": system_message})\n",
        "\n",
        "    user_message = create_user_message(row)\n",
        "    messages.append({\"role\": \"user\", \"content\": user_message})\n",
        "\n",
        "    messages.append({\"role\": \"assistant\", \"content\": f\"Medical conditions: {row['Medical Conditions']}\\n\\nMedicines: {row['Medicines']}\"})\n",
        "\n",
        "    return {\"messages\": messages}\n",
        "\n",
        "#Print an example conversation to check the input and output of the model\n",
        "pprint(prepare_example_conversation(medical_df.iloc[0]))"
      ]
    },
    {
      "cell_type": "markdown",
      "id": "82fa4fae",
      "metadata": {
        "id": "82fa4fae"
      },
      "source": [
        "# Preparing Training Data"
      ]
    },
    {
      "cell_type": "code",
      "execution_count": null,
      "id": "8f37aff9",
      "metadata": {
        "id": "8f37aff9"
      },
      "outputs": [],
      "source": [
        "#Initialize an empty list to store the training data\n",
        "training_data = []\n",
        "\n",
        "# Use the first few rows of the dataset for training\n",
        "training_df = medical_df.loc[0:20]\n",
        "\n",
        "# Apply the prepare_example_conversation function to each row of the training_df\n",
        "training_data = training_df.apply(prepare_example_conversation, axis=1).tolist()"
      ]
    },
    {
      "cell_type": "markdown",
      "id": "6fb0f6a7",
      "metadata": {
        "id": "6fb0f6a7"
      },
      "source": [
        "# Preparing Validation Data to Prevent Overfitting"
      ]
    },
    {
      "cell_type": "code",
      "execution_count": null,
      "id": "5b853efa-dfea-4770-ab88-9b7e17794421",
      "metadata": {
        "id": "5b853efa-dfea-4770-ab88-9b7e17794421"
      },
      "outputs": [],
      "source": [
        "#Use the next few rows of the dataset for validation\n",
        "validation_df = medical_df.loc[20:31]\n",
        "validation_data = validation_df.apply(prepare_example_conversation, axis=1).tolist()"
      ]
    },
    {
      "cell_type": "markdown",
      "id": "1d5e7bfe-f6c8-4a23-a951-3df3f3791d7f",
      "metadata": {
        "id": "1d5e7bfe-f6c8-4a23-a951-3df3f3791d7f"
      },
      "source": [
        "# Writing Data to JSONL Files\n"
      ]
    },
    {
      "cell_type": "code",
      "execution_count": null,
      "id": "8d2eb207-2c2b-43f6-a613-64a7e92d494d",
      "metadata": {
        "id": "8d2eb207-2c2b-43f6-a613-64a7e92d494d"
      },
      "outputs": [],
      "source": [
        "#Define a function to write data into JSONL file\n",
        "def write_jsonl(data_list: list, filename: str) -> None:\n",
        "    with open(filename, \"w\") as out:\n",
        "        for ddict in data_list:\n",
        "            jout = json.dumps(ddict) + \"\\n\"\n",
        "            out.write(jout)"
      ]
    },
    {
      "cell_type": "code",
      "execution_count": null,
      "id": "8b53e7a2-1cac-4c5f-8ba4-3292ba2a0770",
      "metadata": {
        "id": "8b53e7a2-1cac-4c5f-8ba4-3292ba2a0770"
      },
      "outputs": [],
      "source": [
        "#Save our data as `.jsonl` files, with each line being one training example conversation\n",
        "training_file_name = \"tmp_medical_finetune_training.jsonl\"\n",
        "write_jsonl(training_data, training_file_name)\n",
        "\n",
        "#Same is done for validation data\n",
        "validation_file_name = \"tmp_medical_finetune_validation.jsonl\"\n",
        "write_jsonl(validation_data, validation_file_name)"
      ]
    },
    {
      "cell_type": "markdown",
      "id": "0d149e2e-50dd-45c1-bd8d-1291975670b4",
      "metadata": {
        "id": "0d149e2e-50dd-45c1-bd8d-1291975670b4"
      },
      "source": [
        "# Uploading JSONL Files to Endpoint to be Used by the Fine-Tuned Model"
      ]
    },
    {
      "cell_type": "code",
      "execution_count": null,
      "id": "69462d9e-e6bd-49b9-a064-9eae4ea5b7a8",
      "metadata": {
        "colab": {
          "base_uri": "https://localhost:8080/"
        },
        "id": "69462d9e-e6bd-49b9-a064-9eae4ea5b7a8",
        "outputId": "e046db4f-2e75-4c05-8ef1-778d8fba1774"
      },
      "outputs": [
        {
          "output_type": "stream",
          "name": "stdout",
          "text": [
            "Training file ID: file-gR1Qs8ztiBf0I4CAoNlYbl5M\n",
            "Validation file ID: file-eR0GJtLvj4QqntL4WpGUGfle\n"
          ]
        }
      ],
      "source": [
        "#Upload the training and validation files to our `Files` OpenAI endpoint to be used by the fine-tuned model.\n",
        "\n",
        "with open(training_file_name, \"rb\") as training_fd:\n",
        "    training_response = client.files.create(\n",
        "        file=training_fd, purpose=\"fine-tune\"\n",
        "    )\n",
        "\n",
        "training_file_id = training_response.id\n",
        "\n",
        "with open(validation_file_name, \"rb\") as validation_fd:\n",
        "    validation_response = client.files.create(\n",
        "        file=validation_fd, purpose=\"fine-tune\"\n",
        "    )\n",
        "validation_file_id = validation_response.id\n",
        "\n",
        "print(\"Training file ID:\", training_file_id)\n",
        "print(\"Validation file ID:\", validation_file_id)"
      ]
    },
    {
      "cell_type": "markdown",
      "id": "d61cd381-63ad-4ed9-b0be-47a438891028",
      "metadata": {
        "id": "d61cd381-63ad-4ed9-b0be-47a438891028"
      },
      "source": [
        "#Fine-Tuning the Model\n",
        "### Creating Fine-Tuning Job using Training and Validation Files"
      ]
    },
    {
      "cell_type": "code",
      "execution_count": null,
      "id": "05541ceb-5628-447e-962d-7e57c112439c",
      "metadata": {
        "colab": {
          "base_uri": "https://localhost:8080/"
        },
        "id": "05541ceb-5628-447e-962d-7e57c112439c",
        "outputId": "57c0c604-f2b7-4646-b991-56b8b6a40fe6"
      },
      "outputs": [
        {
          "output_type": "stream",
          "name": "stdout",
          "text": [
            "Job ID: ftjob-nwjZL96lPsrcA3F50tR3Fyi5\n",
            "Status: validating_files\n"
          ]
        }
      ],
      "source": [
        "response = client.fine_tuning.jobs.create(\n",
        "    training_file=training_file_id,\n",
        "    validation_file=validation_file_id,\n",
        "    model=\"gpt-3.5-turbo\",\n",
        "    suffix=\"medical-ner\",\n",
        ")\n",
        "\n",
        "job_id = response.id\n",
        "\n",
        "print(\"Job ID:\", response.id)\n",
        "print(\"Status:\", response.status)"
      ]
    },
    {
      "cell_type": "markdown",
      "id": "1de3ed71-f2d4-4138-95a3-70da187a007e",
      "metadata": {
        "id": "1de3ed71-f2d4-4138-95a3-70da187a007e"
      },
      "source": [
        "### Checking Job Status"
      ]
    },
    {
      "cell_type": "code",
      "execution_count": null,
      "id": "d7392f48",
      "metadata": {
        "colab": {
          "base_uri": "https://localhost:8080/"
        },
        "id": "d7392f48",
        "outputId": "0316c2cd-6014-4f05-d5ce-7f35373e6aff"
      },
      "outputs": [
        {
          "output_type": "stream",
          "name": "stdout",
          "text": [
            "Job ID: ftjob-nwjZL96lPsrcA3F50tR3Fyi5\n",
            "Status: running\n",
            "Trained Tokens: None\n"
          ]
        }
      ],
      "source": [
        "response = client.fine_tuning.jobs.retrieve(job_id)\n",
        "\n",
        "print(\"Job ID:\", response.id)\n",
        "print(\"Status:\", response.status)\n",
        "print(\"Trained Tokens:\", response.trained_tokens)"
      ]
    },
    {
      "cell_type": "markdown",
      "id": "30a57fbb",
      "metadata": {
        "id": "30a57fbb"
      },
      "source": [
        "### Tracking Fine-Tuning Progress"
      ]
    },
    {
      "cell_type": "code",
      "execution_count": null,
      "id": "08cace28",
      "metadata": {
        "colab": {
          "base_uri": "https://localhost:8080/"
        },
        "id": "08cace28",
        "outputId": "aeea0b76-483d-4550-8ba7-b3636bcf2fb3"
      },
      "outputs": [
        {
          "output_type": "stream",
          "name": "stdout",
          "text": [
            "Step 69/84: training loss=0.94, validation loss=0.90\n",
            "Step 70/84: training loss=0.49, validation loss=0.80\n",
            "Step 71/84: training loss=0.01, validation loss=0.56\n",
            "Step 72/84: training loss=0.00, validation loss=0.43\n",
            "Step 73/84: training loss=0.25, validation loss=1.13\n",
            "Step 74/84: training loss=0.49, validation loss=1.10\n",
            "Step 75/84: training loss=0.89, validation loss=0.42\n",
            "Step 76/84: training loss=0.77, validation loss=0.94\n",
            "Step 77/84: training loss=1.10, validation loss=1.29\n",
            "Step 78/84: training loss=0.00, validation loss=0.24\n",
            "Step 79/84: training loss=0.10, validation loss=0.91\n",
            "Step 80/84: training loss=0.00, validation loss=0.89\n",
            "Step 81/84: training loss=0.16, validation loss=0.84\n",
            "Step 82/84: training loss=0.56, validation loss=0.56\n",
            "Step 83/84: training loss=0.00, validation loss=0.43\n",
            "Step 84/84: training loss=0.36, validation loss=1.10, full validation loss=0.80\n",
            "Checkpoint created at step 42 with Snapshot ID: ft:gpt-3.5-turbo-0125:personal:medical-ner:9NTMGfbR:ckpt-step-42\n",
            "Checkpoint created at step 63 with Snapshot ID: ft:gpt-3.5-turbo-0125:personal:medical-ner:9NTMHTAb:ckpt-step-63\n",
            "New fine-tuned model created: ft:gpt-3.5-turbo-0125:personal:medical-ner:9NTMHSlu\n",
            "The job has successfully completed\n"
          ]
        }
      ],
      "source": [
        "response = client.fine_tuning.jobs.list_events(job_id)\n",
        "\n",
        "events = response.data\n",
        "events.reverse()\n",
        "\n",
        "#List the events for the job\n",
        "for event in events:\n",
        "    print(event.message)"
      ]
    },
    {
      "cell_type": "markdown",
      "id": "d0da4e32",
      "metadata": {
        "id": "d0da4e32"
      },
      "source": [
        "### Getting Fine-Tuned Model ID from the Job\n"
      ]
    },
    {
      "cell_type": "code",
      "execution_count": null,
      "id": "40b28c26",
      "metadata": {
        "colab": {
          "base_uri": "https://localhost:8080/"
        },
        "id": "40b28c26",
        "outputId": "5f2b40cd-3256-4f52-f704-4b90d5c1a1dc"
      },
      "outputs": [
        {
          "output_type": "stream",
          "name": "stdout",
          "text": [
            "Fine-tuned model ID: ft:gpt-3.5-turbo-0125:personal:medical-ner:9NTMHSlu\n"
          ]
        }
      ],
      "source": [
        "response = client.fine_tuning.jobs.retrieve(job_id)\n",
        "fine_tuned_model_id = response.fine_tuned_model\n",
        "\n",
        "if fine_tuned_model_id is None:\n",
        "    raise RuntimeError(\"Fine-tuned model ID not found. Your job has likely not been completed yet.\")\n",
        "\n",
        "print(\"Fine-tuned model ID:\", fine_tuned_model_id)"
      ]
    },
    {
      "cell_type": "markdown",
      "source": [
        "#Defining a Chat Function to Interact with the Fine-Tuned Model"
      ],
      "metadata": {
        "id": "MZ7nK58Jo9SC"
      },
      "id": "MZ7nK58Jo9SC"
    },
    {
      "cell_type": "code",
      "source": [
        "def chat_with_model(content):\n",
        "    # Define the user message containing the content of the medical report\n",
        "    user_message = f\"Content: {content}\"\n",
        "\n",
        "    # Send the user message to the fine-tuned model using the Chat API\n",
        "    response = client.chat.completions.create(\n",
        "        model=fine_tuned_model_id,\n",
        "        messages=[\n",
        "            {\"role\": \"system\", \"content\": system_message},\n",
        "            {\"role\": \"user\", \"content\": user_message}\n",
        "        ],\n",
        "        temperature=0,\n",
        "        max_tokens=500\n",
        "    )\n",
        "\n",
        "    # Extract and return the assistant's response\n",
        "    assistant_response = response.choices[0].message.content\n",
        "    return assistant_response"
      ],
      "metadata": {
        "id": "tFkdEhZfiWTF"
      },
      "id": "tFkdEhZfiWTF",
      "execution_count": null,
      "outputs": []
    },
    {
      "cell_type": "markdown",
      "source": [
        "# Prompting the AI with a Medical Report to Extract the Medical Conditions and Medicines Mentioned:"
      ],
      "metadata": {
        "id": "40jyImHXDcVR"
      },
      "id": "40jyImHXDcVR"
    },
    {
      "cell_type": "code",
      "source": [
        "content1 = \"The patient was prescribed Aspirin for their heart condition. The doctor recommended Ibuprofen to alleviate the patient's headache. \\\n",
        "The patient is suffering from diabetes, and they need to take Metformin regularly. After the surgery, the patient experienced some post-operative complications, including infection. \\\n",
        "The patient is currently on a regimen of Lisinopril to manage their high blood pressure. The antibiotic course for treating the bacterial infection should be completed as prescribed. \\\n",
        "The patient's insulin dosage needs to be adjusted to better control their blood sugar levels. The physician suspects that the patient may have pneumonia and has ordered a chest X-ray. \\\n",
        "The patient's cholesterol levels are high, and they have been advised to take Atorvastatin. The allergy to penicillin was noted in the patient's medical history.\"\n",
        "response1 = chat_with_model(content1)\n",
        "print(\"Extracted Medical Conditions and Medicines:\\n\")\n",
        "print(response1)"
      ],
      "metadata": {
        "id": "Dk0UwlJho04u",
        "colab": {
          "base_uri": "https://localhost:8080/"
        },
        "outputId": "d381079c-3aad-48ef-99be-6901a8a0dfe1"
      },
      "id": "Dk0UwlJho04u",
      "execution_count": null,
      "outputs": [
        {
          "output_type": "stream",
          "name": "stdout",
          "text": [
            "Extracted Medical Conditions and Medicines:\n",
            "\n",
            "Medical conditions: heart condition, headache, diabetes, post-operative complications, infection, high blood pressure, bacterial infection, blood sugar levels, pneumonia, cholesterol levels, allergy\n",
            "\n",
            "Medicines: Aspirin, Ibuprofen, Metformin, Lisinopril, Atorvastatin, penicillin\n"
          ]
        }
      ]
    },
    {
      "cell_type": "markdown",
      "source": [
        "# Prompting the AI with an Example that Mentions One Major Medical Condition and Different Medicines Used to Treat It and It's Symptoms:"
      ],
      "metadata": {
        "id": "9DzHsQ19JNMv"
      },
      "id": "9DzHsQ19JNMv"
    },
    {
      "cell_type": "code",
      "source": [
        "content2 = \"The patient has been diagnosed with arthritis, a chronic autoimmune disorder that primarily affects the joints. \\\n",
        "Arthritis causes inflammation, pain, and swelling in the affected joints, leading to stiffness and decreased mobility. \\\n",
        "To manage the symptoms and slow the progression of the disease, the patient's treatment plan includes a combination of medications. \\\n",
        "They are prescribed methotrexate, a disease-modifying antirheumatic drug (DMARD), which helps to suppress the immune system's abnormal response and reduce inflammation in the joints. \\\n",
        "In addition to methotrexate, the patient also takes nonsteroidal anti-inflammatory drugs (NSAIDs) such as ibuprofen or naproxen to alleviate pain and inflammation. \\\n",
        "Corticosteroids like prednisone may be used in the short term to provide quick relief during flare-ups. \\\n",
        "Furthermore, the patient is advised to take biologic DMARDs like adalimumab or etanercept, which target specific components of the immune system involved in the inflammatory process. \\\n",
        "Along with medication, the patient is encouraged to engage in regular exercise, physical therapy, and lifestyle modifications to improve joint function and overall quality of life.\"\n",
        "response2 = chat_with_model(content2)\n",
        "print(\"Extracted Medical Conditions and Medicines:\\n\")\n",
        "print(response2)"
      ],
      "metadata": {
        "colab": {
          "base_uri": "https://localhost:8080/"
        },
        "id": "kPHww_OoLimh",
        "outputId": "249840c9-58e0-40e1-8208-61409205fb97"
      },
      "id": "kPHww_OoLimh",
      "execution_count": null,
      "outputs": [
        {
          "output_type": "stream",
          "name": "stdout",
          "text": [
            "Extracted Medical Conditions and Medicines:\n",
            "\n",
            "Medical conditions: arthritis, inflammation, pain, swelling, stiffness, decreased mobility, flare-ups\n",
            "\n",
            "Medicines: methotrexate, ibuprofen, naproxen, prednisone, adalimumab, etanercept\n"
          ]
        }
      ]
    },
    {
      "cell_type": "markdown",
      "source": [
        "# Prompting the AI with an Example that Mentions One Medicine and Different Medicinal Conditions it is Used to Treat:"
      ],
      "metadata": {
        "id": "98IFTnt7LwrW"
      },
      "id": "98IFTnt7LwrW"
    },
    {
      "cell_type": "code",
      "source": [
        "# Prompting the AI with an Example that Mentions One Medicine and Different Medicinal Conditions it is Used to Treat:"
      ],
      "metadata": {
        "id": "AApDKW4gLxBd"
      },
      "id": "AApDKW4gLxBd",
      "execution_count": null,
      "outputs": []
    },
    {
      "cell_type": "code",
      "source": [
        "content3 = \"Ibuprofen, a nonsteroidal anti-inflammatory drug (NSAID), is commonly prescribed to alleviate pain, reduce inflammation, and lower fever. \\\n",
        "It is a versatile medication used to treat various conditions across different age groups. \\\n",
        "In adults, ibuprofen is often recommended for managing mild to moderate pain associated with headaches, toothaches, menstrual cramps, and musculoskeletal injuries such as sprains or strains. \\\n",
        "Additionally, it is effective in relieving pain and swelling caused by conditions like arthritis, including osteoarthritis and rheumatoid arthritis. \\\n",
        "In children, ibuprofen is frequently used to reduce fever and relieve discomfort due to common illnesses such as colds, flu, or sore throat. \\\n",
        "It can also help alleviate pain from teething, ear infections, or minor injuries. \\\n",
        "Furthermore, ibuprofen is sometimes prescribed to alleviate symptoms of inflammatory conditions like tendonitis or bursitis. \\\n",
        "Overall, ibuprofen is a widely available and well-tolerated medication that provides relief for a range of medical issues.\"\n",
        "response3 = chat_with_model(content3)\n",
        "print(\"Extracted Medical Conditions and Medicines:\\n\")\n",
        "print(response3)"
      ],
      "metadata": {
        "colab": {
          "base_uri": "https://localhost:8080/"
        },
        "id": "NVL3--eIL2-I",
        "outputId": "23b5a71d-a573-4318-b25b-2b287cad1338"
      },
      "id": "NVL3--eIL2-I",
      "execution_count": null,
      "outputs": [
        {
          "output_type": "stream",
          "name": "stdout",
          "text": [
            "Extracted Medical Conditions and Medicines:\n",
            "\n",
            "Medical conditions: tendonitis, bursitis, colds, flu, teething, ear infections, menstrual cramps, musculoskeletal injuries, toothaches, osteoarthritis, rheumatoid arthritis\n",
            "\n",
            "Medicines: Ibuprofen\n"
          ]
        }
      ]
    },
    {
      "cell_type": "markdown",
      "source": [
        "#Prompting the AI with Formatted Medical Reports to Extract the Medical Conditions and Medicines Mentioned:"
      ],
      "metadata": {
        "id": "PS16PUY7MMTh"
      },
      "id": "PS16PUY7MMTh"
    },
    {
      "cell_type": "code",
      "source": [
        "content4 = \"Patient Name: Sarah Johnson\\\n",
        "Age: 45\\\n",
        "Gender: Female\\\n",
        "Medical Conditions: Hypertension, Type 2 Diabetes\\\n",
        "Prescribed Medicines:\\\n",
        "- Lisinopril (10 mg daily) for hypertension management\\\n",
        "- Metformin (500 mg twice daily) for type 2 diabetes control\\\n",
        "- Aspirin (81 mg daily) for cardiovascular health\"\n",
        "response4 = chat_with_model(content4)\n",
        "print(\"Extracted Medical Conditions and Medicines:\\n\")\n",
        "print(response4)"
      ],
      "metadata": {
        "colab": {
          "base_uri": "https://localhost:8080/"
        },
        "id": "76MCtLWRMMlN",
        "outputId": "370dc99d-436e-4bcf-b4aa-de381184d8d7"
      },
      "id": "76MCtLWRMMlN",
      "execution_count": null,
      "outputs": [
        {
          "output_type": "stream",
          "name": "stdout",
          "text": [
            "Extracted Medical Conditions and Medicines:\n",
            "\n",
            "Medical conditions: Hypertension, Type 2 Diabetes\n",
            "\n",
            "Medicines: Lisinopril, Metformin, Aspirin\n"
          ]
        }
      ]
    },
    {
      "cell_type": "code",
      "source": [
        "content5 = \"Patient Name: John Smith\\\n",
        "Age: 60\\\n",
        "Gender: Male\\\n",
        "Medical Conditions: Osteoarthritis, High Cholesterol\\\n",
        "Prescribed Medicines:\\\n",
        "- Ibuprofen (200 mg three times daily) for pain relief due to osteoarthritis\\\n",
        "- Atorvastatin (20 mg daily) for lowering cholesterol levels\\\n",
        "- Glucosamine-Chondroitin supplement (1500 mg daily) for joint health\"\n",
        "response5 = chat_with_model(content5)\n",
        "print(\"Extracted Medical Conditions and Medicines:\\n\")\n",
        "print(response5)"
      ],
      "metadata": {
        "colab": {
          "base_uri": "https://localhost:8080/"
        },
        "id": "6Yz6EcR9Mg-l",
        "outputId": "c6e1c255-d4f8-4998-b56e-4b8d056bd36a"
      },
      "id": "6Yz6EcR9Mg-l",
      "execution_count": null,
      "outputs": [
        {
          "output_type": "stream",
          "name": "stdout",
          "text": [
            "Extracted Medical Conditions and Medicines:\n",
            "\n",
            "Medical conditions: Osteoarthritis, High Cholesterol\n",
            "\n",
            "Medicines: Ibuprofen, Atorvastatin, Glucosamine-Chondroitin supplement\n"
          ]
        }
      ]
    },
    {
      "cell_type": "code",
      "source": [],
      "metadata": {
        "id": "XzY4sTDr4wsG"
      },
      "id": "XzY4sTDr4wsG",
      "execution_count": null,
      "outputs": []
    }
  ],
  "metadata": {
    "kernelspec": {
      "display_name": "Python 3",
      "language": "python",
      "name": "python3"
    },
    "language_info": {
      "codemirror_mode": {
        "name": "ipython",
        "version": 3
      },
      "file_extension": ".py",
      "mimetype": "text/x-python",
      "name": "python",
      "nbconvert_exporter": "python",
      "pygments_lexer": "ipython3",
      "version": "3.11.3"
    },
    "colab": {
      "provenance": []
    }
  },
  "nbformat": 4,
  "nbformat_minor": 5
}